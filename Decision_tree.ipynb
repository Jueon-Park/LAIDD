{
  "nbformat": 4,
  "nbformat_minor": 0,
  "metadata": {
    "colab": {
      "name": "Decision tree",
      "provenance": [],
      "collapsed_sections": [],
      "authorship_tag": "ABX9TyPFcc+xMto+QvdSlTjSGUdi",
      "include_colab_link": true
    },
    "kernelspec": {
      "name": "python3",
      "display_name": "Python 3"
    },
    "language_info": {
      "name": "python"
    }
  },
  "cells": [
    {
      "cell_type": "markdown",
      "metadata": {
        "id": "view-in-github",
        "colab_type": "text"
      },
      "source": [
        "<a href=\"https://colab.research.google.com/github/Jueon-Park/LAIDD/blob/main/Decision_tree.ipynb\" target=\"_parent\"><img src=\"https://colab.research.google.com/assets/colab-badge.svg\" alt=\"Open In Colab\"/></a>"
      ]
    },
    {
      "cell_type": "code",
      "source": [
        "from google.colab import drive\n",
        "drive.mount('/content/drive', force_remount=True)"
      ],
      "metadata": {
        "colab": {
          "base_uri": "https://localhost:8080/"
        },
        "id": "Y2hASeLnclvj",
        "outputId": "014c490b-25ce-4b75-e82f-48c43fc646e2"
      },
      "execution_count": null,
      "outputs": [
        {
          "output_type": "stream",
          "name": "stdout",
          "text": [
            "Mounted at /content/drive\n"
          ]
        }
      ]
    },
    {
      "cell_type": "code",
      "execution_count": null,
      "metadata": {
        "id": "4IWaMe2KYeTv"
      },
      "outputs": [],
      "source": [
        "import pandas as pd\n",
        "from sklearn.preprocessing import LabelEncoder\n",
        "from sklearn import tree\n"
      ]
    },
    {
      "cell_type": "code",
      "source": [
        "file_path = \"/content/drive/MyDrive/Lecture-master/dt/PlayTennis.csv\"\n",
        "\n",
        "datas = pd.read_csv(file_path)\n",
        "\n",
        "print(datas)"
      ],
      "metadata": {
        "colab": {
          "base_uri": "https://localhost:8080/"
        },
        "id": "YvpwK2qPaRQB",
        "outputId": "633001a4-5b08-4f5f-df47-7b651b996b12"
      },
      "execution_count": null,
      "outputs": [
        {
          "output_type": "stream",
          "name": "stdout",
          "text": [
            "     outlook  temp humidity  windy play\n",
            "0      sunny   hot     high  False   no\n",
            "1      sunny   hot     high   True   no\n",
            "2   overcast   hot     high  False  yes\n",
            "3      rainy  mild     high  False  yes\n",
            "4      rainy  cool   normal  False  yes\n",
            "5      rainy  cool   normal   True   no\n",
            "6   overcast  cool   normal   True  yes\n",
            "7      sunny  mild     high  False   no\n",
            "8      sunny  cool   normal  False  yes\n",
            "9      rainy  mild   normal  False  yes\n",
            "10     sunny  mild   normal   True  yes\n",
            "11  overcast  mild     high   True  yes\n",
            "12  overcast   hot   normal  False  yes\n",
            "13     rainy  mild     high   True   no\n"
          ]
        }
      ]
    },
    {
      "cell_type": "code",
      "source": [
        "from google.colab import drive\n",
        "drive.mount('/content/drive')"
      ],
      "metadata": {
        "id": "e5VT0hWrZihB"
      },
      "execution_count": null,
      "outputs": []
    },
    {
      "cell_type": "code",
      "source": [
        "label_encoder = LabelEncoder()\n",
        "\n",
        "target_names = label_encoder.fit(datas['play']).classes_\n",
        "print(\"target_names : {}\".format(target_names))\n",
        "\n",
        "datas['outlook'] = label_encoder.fit_transform(datas['outlook'])\n",
        "datas['temp'] = label_encoder.fit_transform(datas['temp'])\n",
        "datas['humidity'] = label_encoder.fit_transform(datas['humidity'])\n",
        "datas['windy'] = label_encoder.fit_transform(datas['windy'])\n",
        "datas['play'] = label_encoder.fit_transform(datas['play'])\n",
        "\n",
        "print(datas)\n",
        "\n"
      ],
      "metadata": {
        "colab": {
          "base_uri": "https://localhost:8080/"
        },
        "id": "m7-nC4TwcSzC",
        "outputId": "569453be-e843-416a-81dc-c2da21e61ed5"
      },
      "execution_count": null,
      "outputs": [
        {
          "output_type": "stream",
          "name": "stdout",
          "text": [
            "target_names : [0 1]\n",
            "    outlook  temp  humidity  windy  play\n",
            "0         2     1         0      0     0\n",
            "1         2     1         0      1     0\n",
            "2         0     1         0      0     1\n",
            "3         1     2         0      0     1\n",
            "4         1     0         1      0     1\n",
            "5         1     0         1      1     0\n",
            "6         0     0         1      1     1\n",
            "7         2     2         0      0     0\n",
            "8         2     0         1      0     1\n",
            "9         1     2         1      0     1\n",
            "10        2     2         1      1     1\n",
            "11        0     2         0      1     1\n",
            "12        0     1         1      0     1\n",
            "13        1     2         0      1     0\n"
          ]
        }
      ]
    },
    {
      "cell_type": "code",
      "source": [
        "x_data, y_data = datas.drop(['play'], axis = 1), datas['play']\n",
        "\n",
        "print(x_data)\n",
        "print()\n",
        "print(y_data)"
      ],
      "metadata": {
        "id": "SzDbIskFa-kd",
        "colab": {
          "base_uri": "https://localhost:8080/"
        },
        "outputId": "e694fa79-eafb-466a-b135-14dca808b4af"
      },
      "execution_count": null,
      "outputs": [
        {
          "output_type": "stream",
          "name": "stdout",
          "text": [
            "    outlook  temp  humidity  windy\n",
            "0         2     1         0      0\n",
            "1         2     1         0      1\n",
            "2         0     1         0      0\n",
            "3         1     2         0      0\n",
            "4         1     0         1      0\n",
            "5         1     0         1      1\n",
            "6         0     0         1      1\n",
            "7         2     2         0      0\n",
            "8         2     0         1      0\n",
            "9         1     2         1      0\n",
            "10        2     2         1      1\n",
            "11        0     2         0      1\n",
            "12        0     1         1      0\n",
            "13        1     2         0      1\n",
            "\n",
            "0     0\n",
            "1     0\n",
            "2     1\n",
            "3     1\n",
            "4     1\n",
            "5     0\n",
            "6     1\n",
            "7     0\n",
            "8     1\n",
            "9     1\n",
            "10    1\n",
            "11    1\n",
            "12    1\n",
            "13    0\n",
            "Name: play, dtype: int64\n"
          ]
        }
      ]
    },
    {
      "cell_type": "code",
      "source": [
        "decision_tree = tree.DecisionTreeClassifier(criterion = 'entropy')\n",
        "train_result = decision_tree.fit(x_data, y_data)\n"
      ],
      "metadata": {
        "id": "LtJza39je87r"
      },
      "execution_count": null,
      "outputs": []
    },
    {
      "cell_type": "code",
      "source": [
        "graph = graphviz.Source(tree.export_graphviz(train_result, out_file=None,\n",
        "                                             feature_names=x_data.columns, \n",
        "                                             class_names=target_names))\n",
        "\n",
        "graph\n",
        "\n"
      ],
      "metadata": {
        "colab": {
          "base_uri": "https://localhost:8080/",
          "height": 396
        },
        "id": "FX3PsbrafSZa",
        "outputId": "2289a21f-e5b6-4eea-fe68-476fd4e1ceb7"
      },
      "execution_count": null,
      "outputs": [
        {
          "output_type": "error",
          "ename": "TypeError",
          "evalue": "ignored",
          "traceback": [
            "\u001b[0;31m---------------------------------------------------------------------------\u001b[0m",
            "\u001b[0;31mTypeError\u001b[0m                                 Traceback (most recent call last)",
            "\u001b[0;32m<ipython-input-27-62f95f7d6c21>\u001b[0m in \u001b[0;36m<module>\u001b[0;34m()\u001b[0m\n\u001b[1;32m      2\u001b[0m graph = graphviz.Source(tree.export_graphviz(train_result, out_file=None,\n\u001b[1;32m      3\u001b[0m                                              \u001b[0mfeature_names\u001b[0m\u001b[0;34m=\u001b[0m\u001b[0mx_data\u001b[0m\u001b[0;34m.\u001b[0m\u001b[0mcolumns\u001b[0m\u001b[0;34m,\u001b[0m\u001b[0;34m\u001b[0m\u001b[0;34m\u001b[0m\u001b[0m\n\u001b[0;32m----> 4\u001b[0;31m                                              class_names=target_names))\n\u001b[0m\u001b[1;32m      5\u001b[0m \u001b[0;34m\u001b[0m\u001b[0m\n\u001b[1;32m      6\u001b[0m \u001b[0mgraph\u001b[0m\u001b[0;34m\u001b[0m\u001b[0;34m\u001b[0m\u001b[0m\n",
            "\u001b[0;32m/usr/local/lib/python3.7/dist-packages/sklearn/tree/_export.py\u001b[0m in \u001b[0;36mexport_graphviz\u001b[0;34m(decision_tree, out_file, max_depth, feature_names, class_names, label, filled, leaves_parallel, impurity, node_ids, proportion, rotate, rounded, special_characters, precision, fontname)\u001b[0m\n\u001b[1;32m    887\u001b[0m             \u001b[0mfontname\u001b[0m\u001b[0;34m=\u001b[0m\u001b[0mfontname\u001b[0m\u001b[0;34m,\u001b[0m\u001b[0;34m\u001b[0m\u001b[0;34m\u001b[0m\u001b[0m\n\u001b[1;32m    888\u001b[0m         )\n\u001b[0;32m--> 889\u001b[0;31m         \u001b[0mexporter\u001b[0m\u001b[0;34m.\u001b[0m\u001b[0mexport\u001b[0m\u001b[0;34m(\u001b[0m\u001b[0mdecision_tree\u001b[0m\u001b[0;34m)\u001b[0m\u001b[0;34m\u001b[0m\u001b[0;34m\u001b[0m\u001b[0m\n\u001b[0m\u001b[1;32m    890\u001b[0m \u001b[0;34m\u001b[0m\u001b[0m\n\u001b[1;32m    891\u001b[0m         \u001b[0;32mif\u001b[0m \u001b[0mreturn_string\u001b[0m\u001b[0;34m:\u001b[0m\u001b[0;34m\u001b[0m\u001b[0;34m\u001b[0m\u001b[0m\n",
            "\u001b[0;32m/usr/local/lib/python3.7/dist-packages/sklearn/tree/_export.py\u001b[0m in \u001b[0;36mexport\u001b[0;34m(self, decision_tree)\u001b[0m\n\u001b[1;32m    460\u001b[0m             \u001b[0mself\u001b[0m\u001b[0;34m.\u001b[0m\u001b[0mrecurse\u001b[0m\u001b[0;34m(\u001b[0m\u001b[0mdecision_tree\u001b[0m\u001b[0;34m,\u001b[0m \u001b[0;36m0\u001b[0m\u001b[0;34m,\u001b[0m \u001b[0mcriterion\u001b[0m\u001b[0;34m=\u001b[0m\u001b[0;34m\"impurity\"\u001b[0m\u001b[0;34m)\u001b[0m\u001b[0;34m\u001b[0m\u001b[0;34m\u001b[0m\u001b[0m\n\u001b[1;32m    461\u001b[0m         \u001b[0;32melse\u001b[0m\u001b[0;34m:\u001b[0m\u001b[0;34m\u001b[0m\u001b[0;34m\u001b[0m\u001b[0m\n\u001b[0;32m--> 462\u001b[0;31m             \u001b[0mself\u001b[0m\u001b[0;34m.\u001b[0m\u001b[0mrecurse\u001b[0m\u001b[0;34m(\u001b[0m\u001b[0mdecision_tree\u001b[0m\u001b[0;34m.\u001b[0m\u001b[0mtree_\u001b[0m\u001b[0;34m,\u001b[0m \u001b[0;36m0\u001b[0m\u001b[0;34m,\u001b[0m \u001b[0mcriterion\u001b[0m\u001b[0;34m=\u001b[0m\u001b[0mdecision_tree\u001b[0m\u001b[0;34m.\u001b[0m\u001b[0mcriterion\u001b[0m\u001b[0;34m)\u001b[0m\u001b[0;34m\u001b[0m\u001b[0;34m\u001b[0m\u001b[0m\n\u001b[0m\u001b[1;32m    463\u001b[0m \u001b[0;34m\u001b[0m\u001b[0m\n\u001b[1;32m    464\u001b[0m         \u001b[0mself\u001b[0m\u001b[0;34m.\u001b[0m\u001b[0mtail\u001b[0m\u001b[0;34m(\u001b[0m\u001b[0;34m)\u001b[0m\u001b[0;34m\u001b[0m\u001b[0;34m\u001b[0m\u001b[0m\n",
            "\u001b[0;32m/usr/local/lib/python3.7/dist-packages/sklearn/tree/_export.py\u001b[0m in \u001b[0;36mrecurse\u001b[0;34m(self, tree, node_id, criterion, parent, depth)\u001b[0m\n\u001b[1;32m    519\u001b[0m \u001b[0;34m\u001b[0m\u001b[0m\n\u001b[1;32m    520\u001b[0m             self.out_file.write(\n\u001b[0;32m--> 521\u001b[0;31m                 \u001b[0;34m\"%d [label=%s\"\u001b[0m \u001b[0;34m%\u001b[0m \u001b[0;34m(\u001b[0m\u001b[0mnode_id\u001b[0m\u001b[0;34m,\u001b[0m \u001b[0mself\u001b[0m\u001b[0;34m.\u001b[0m\u001b[0mnode_to_str\u001b[0m\u001b[0;34m(\u001b[0m\u001b[0mtree\u001b[0m\u001b[0;34m,\u001b[0m \u001b[0mnode_id\u001b[0m\u001b[0;34m,\u001b[0m \u001b[0mcriterion\u001b[0m\u001b[0;34m)\u001b[0m\u001b[0;34m)\u001b[0m\u001b[0;34m\u001b[0m\u001b[0;34m\u001b[0m\u001b[0m\n\u001b[0m\u001b[1;32m    522\u001b[0m             )\n\u001b[1;32m    523\u001b[0m \u001b[0;34m\u001b[0m\u001b[0m\n",
            "\u001b[0;32m/usr/local/lib/python3.7/dist-packages/sklearn/tree/_export.py\u001b[0m in \u001b[0;36mnode_to_str\u001b[0;34m(self, tree, node_id, criterion)\u001b[0m\n\u001b[1;32m    372\u001b[0m                     \u001b[0mcharacters\u001b[0m\u001b[0;34m[\u001b[0m\u001b[0;36m2\u001b[0m\u001b[0;34m]\u001b[0m\u001b[0;34m,\u001b[0m\u001b[0;34m\u001b[0m\u001b[0;34m\u001b[0m\u001b[0m\n\u001b[1;32m    373\u001b[0m                 )\n\u001b[0;32m--> 374\u001b[0;31m             \u001b[0mnode_string\u001b[0m \u001b[0;34m+=\u001b[0m \u001b[0mclass_name\u001b[0m\u001b[0;34m\u001b[0m\u001b[0;34m\u001b[0m\u001b[0m\n\u001b[0m\u001b[1;32m    375\u001b[0m \u001b[0;34m\u001b[0m\u001b[0m\n\u001b[1;32m    376\u001b[0m         \u001b[0;31m# Clean up any trailing newlines\u001b[0m\u001b[0;34m\u001b[0m\u001b[0;34m\u001b[0m\u001b[0;34m\u001b[0m\u001b[0m\n",
            "\u001b[0;31mTypeError\u001b[0m: can only concatenate str (not \"numpy.int64\") to str"
          ]
        }
      ]
    },
    {
      "cell_type": "code",
      "source": [
        "predict_result = decision_tree.predict(x_data)\n",
        "\n",
        "print(predict_result == y_data)"
      ],
      "metadata": {
        "colab": {
          "base_uri": "https://localhost:8080/"
        },
        "id": "pcwWnyL9hBOD",
        "outputId": "2b41b5f1-8c3c-45fb-fdce-5deef6207cb9"
      },
      "execution_count": null,
      "outputs": [
        {
          "output_type": "stream",
          "name": "stdout",
          "text": [
            "0     True\n",
            "1     True\n",
            "2     True\n",
            "3     True\n",
            "4     True\n",
            "5     True\n",
            "6     True\n",
            "7     True\n",
            "8     True\n",
            "9     True\n",
            "10    True\n",
            "11    True\n",
            "12    True\n",
            "13    True\n",
            "Name: play, dtype: bool\n"
          ]
        }
      ]
    }
  ]
}